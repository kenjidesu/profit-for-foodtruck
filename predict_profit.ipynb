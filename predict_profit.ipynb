{
 "cells": [
  {
   "cell_type": "code",
   "execution_count": null,
   "id": "dbc8410e",
   "metadata": {},
   "outputs": [],
   "source": [
    "# Modules that are needed\n",
    "import pandas as pd\n",
    "import numpy as np\n",
    "import matplotlib.pyplot as plt\n",
    "%matplotlib inline\n",
    "from sklearn.metrics import mean_squared_error"
   ]
  },
  {
   "cell_type": "code",
   "execution_count": null,
   "id": "1d115236",
   "metadata": {},
   "outputs": [],
   "source": [
    "# Read the Data\n",
    "filepath = \"data1.txt\"\n",
    "data1 = pd.read_csv(filepath, header=None)\n",
    "data1[:5]"
   ]
  },
  {
   "cell_type": "code",
   "execution_count": null,
   "id": "f9f416f1",
   "metadata": {},
   "outputs": [],
   "source": [
    "# Both Shapes are (97, 1)\n",
    "X = data1.iloc[:, [0]]\n",
    "y = data1.iloc[:, [1]]\n",
    "X.shape, y.shape"
   ]
  },
  {
   "cell_type": "code",
   "execution_count": null,
   "id": "7119f1f1",
   "metadata": {
    "scrolled": true
   },
   "outputs": [],
   "source": [
    "# Plotting the Data\n",
    "plt.ylabel('Profit in $10,000s')\n",
    "plt.xlabel('Population of City in 10,000s')\n",
    "plt.scatter(X, y, c='red', marker='x')\n",
    "plt.show()"
   ]
  },
  {
   "cell_type": "code",
   "execution_count": null,
   "id": "50b61902",
   "metadata": {},
   "outputs": [],
   "source": [
    "m = X.size\n",
    "X_b = np.c_[np.ones((m, 1)), X]    # Add ones to x0"
   ]
  },
  {
   "cell_type": "code",
   "execution_count": null,
   "id": "c63c2e1e",
   "metadata": {},
   "outputs": [],
   "source": [
    "# Cost Function\n",
    "def computeCost(X, y, theta):\n",
    "    prediction = X.dot(theta)\n",
    "    cost = mean_squared_error(y, prediction)\n",
    "    return cost"
   ]
  },
  {
   "cell_type": "code",
   "execution_count": null,
   "id": "189adad7",
   "metadata": {},
   "outputs": [],
   "source": [
    "zero_theta = np.zeros((2, 1))           # Initialize theta to zeros \n",
    "cost_zero = computeCost(X_b, y, zero_theta)\n",
    "\n",
    "print(\"Cost function of theta all zeros:\\t{}\".format(cost_zero/2))"
   ]
  },
  {
   "cell_type": "code",
   "execution_count": null,
   "id": "090e2d19",
   "metadata": {},
   "outputs": [],
   "source": [
    "non_zero_theta = np.array([[-1], [2]])\n",
    "cost_non_zero = computeCost(X_b, y, non_zero_theta)\n",
    "\n",
    "print(\"Cost function of theta non-zero:\\t{}\".format(cost_non_zero/2))"
   ]
  },
  {
   "cell_type": "code",
   "execution_count": null,
   "id": "53a8128d",
   "metadata": {},
   "outputs": [],
   "source": [
    "# Gradient Descent\n",
    "def grad_desc(X, y, theta, alpha, iterations):\n",
    "    m = np.size(y)\n",
    "    for i in range(iterations):\n",
    "        prediction = X.dot(theta)\n",
    "        theta = theta - alpha * (1/m) * (X.T.dot((prediction - y)))\n",
    "        \n",
    "    return theta"
   ]
  },
  {
   "cell_type": "code",
   "execution_count": null,
   "id": "89f8a32a",
   "metadata": {},
   "outputs": [],
   "source": [
    "theta = np.zeros((2,1))\n",
    "alpha = 0.01\n",
    "iterations = 1500\n",
    "\n",
    "theta_best = grad_desc(X_b, y, theta, alpha, iterations)\n",
    "\n",
    "print(\"Theta computed from Gradient Descent:\\n\\tTheta_0:\\t{}\\n\\tTheta_1:\\t{}\".format(theta_best[0][0], theta_best[1][0]))"
   ]
  },
  {
   "cell_type": "code",
   "execution_count": null,
   "id": "76e1f46a",
   "metadata": {},
   "outputs": [],
   "source": [
    "# Plot the Linear Fit\n",
    "plt.ylabel('Profit in $10,000s')\n",
    "plt.xlabel('Population of City in 10,000s')\n",
    "plt.scatter(X, y, c='red', marker='x')\n",
    "plt.plot(X, X_b.dot(theta_best), c='b')\n",
    "plt.show()"
   ]
  },
  {
   "cell_type": "code",
   "execution_count": null,
   "id": "6061c205",
   "metadata": {},
   "outputs": [],
   "source": [
    "# Predict value for population sizes of 35,000 and 70,000\n",
    "predict1 = np.array([1, 3.5]).dot(theta_best)\n",
    "predict2 = np.array([1, 7]).dot(theta_best)\n",
    "print(\"For population = 35,000, we predict a profit of:\\n\\t{}\".format(predict1[0] * 10000))\n",
    "print(\"For population = 70,000, we predict a profit of:\\n\\t{}\".format(predict2[0] * 10000))"
   ]
  },
  {
   "cell_type": "code",
   "execution_count": null,
   "id": "bcaca911",
   "metadata": {},
   "outputs": [],
   "source": [
    "# Here's a 2-dimensional gird of Theta values to understand the cost function better.\n",
    "# The code below will use these values to produce surface and contour plots of the costs.\n",
    "theta0_vals = np.linspace(-10, 10, 100)\n",
    "theta1_vals = np.linspace(-1, 4, 100)\n",
    "\n",
    "J_vals = np.zeros((theta0_vals.size, theta1_vals.size))\n",
    "\n",
    "for i in range(theta0_vals.size):\n",
    "    for j in range(theta1_vals.size):\n",
    "        t = [[theta0_vals[i]], [theta1_vals[j]]]\n",
    "        J_vals[i][j] = computeCost(X_b, y, t)\n",
    "\n",
    "# Because of the way meshgrids work in the surf command, we need to \n",
    "# transpose J_vals before calling surf, or else the axes will be flipped.\n",
    "J_vals = J_vals.T"
   ]
  },
  {
   "cell_type": "code",
   "execution_count": null,
   "id": "974c86f4",
   "metadata": {},
   "outputs": [],
   "source": [
    "# Surface plot\n",
    "fig = plt.figure(figsize =(14, 9))\n",
    "ax = plt.axes(projection ='3d')\n",
    "ax.set_xlabel('theta_0')\n",
    "ax.set_ylabel('theta_1')\n",
    "ax.plot_surface(theta0_vals, theta1_vals, J_vals)\n",
    "plt.show()"
   ]
  },
  {
   "cell_type": "code",
   "execution_count": null,
   "id": "2172214d",
   "metadata": {},
   "outputs": [],
   "source": [
    "# Contour plot\n",
    "plt.contour(theta0_vals, theta1_vals, J_vals, np.logspace(-2, 3, 20))\n",
    "plt.xlabel('theta_0')\n",
    "plt.ylabel('theta_1');\n",
    "plt.plot(theta_best[0], theta_best[1], 'rx', markersize=10, linewidth=2);\n",
    "plt.show()"
   ]
  }
 ],
 "metadata": {
  "kernelspec": {
   "display_name": "Python 3 (ipykernel)",
   "language": "python",
   "name": "python3"
  },
  "language_info": {
   "codemirror_mode": {
    "name": "ipython",
    "version": 3
   },
   "file_extension": ".py",
   "mimetype": "text/x-python",
   "name": "python",
   "nbconvert_exporter": "python",
   "pygments_lexer": "ipython3",
   "version": "3.9.7"
  }
 },
 "nbformat": 4,
 "nbformat_minor": 5
}
